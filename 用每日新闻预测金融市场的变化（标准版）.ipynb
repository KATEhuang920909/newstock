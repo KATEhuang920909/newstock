{
 "cells": [
  {
   "cell_type": "markdown",
   "metadata": {},
   "source": [
    "#  用每日新闻预测金融市场的变化（标准版）\n",
    "TF-IDF+SVM是文本分类问题的基准线\n"
   ]
  },
  {
   "cell_type": "code",
   "execution_count": 2,
   "metadata": {},
   "outputs": [],
   "source": [
    "from sklearn.feature_extraction.text import CountVectorizer ,TfidfVectorizer\n",
    "import pandas as pd\n",
    "from  sklearn.svm import SVC\n",
    "from sklearn.metrics import roc_auc_score\n",
    "from datetime import date"
   ]
  },
  {
   "cell_type": "code",
   "execution_count": 3,
   "metadata": {},
   "outputs": [],
   "source": [
    "data=pd.read_csv(r'H:\\news stock\\input\\Combined_News_DJIA.csv',engine='python')"
   ]
  },
  {
   "cell_type": "code",
   "execution_count": 4,
   "metadata": {},
   "outputs": [
    {
     "data": {
      "text/html": [
       "<div>\n",
       "<style>\n",
       "    .dataframe thead tr:only-child th {\n",
       "        text-align: right;\n",
       "    }\n",
       "\n",
       "    .dataframe thead th {\n",
       "        text-align: left;\n",
       "    }\n",
       "\n",
       "    .dataframe tbody tr th {\n",
       "        vertical-align: top;\n",
       "    }\n",
       "</style>\n",
       "<table border=\"1\" class=\"dataframe\">\n",
       "  <thead>\n",
       "    <tr style=\"text-align: right;\">\n",
       "      <th></th>\n",
       "      <th>Date</th>\n",
       "      <th>Label</th>\n",
       "      <th>Top1</th>\n",
       "      <th>Top2</th>\n",
       "      <th>Top3</th>\n",
       "      <th>Top4</th>\n",
       "      <th>Top5</th>\n",
       "      <th>Top6</th>\n",
       "      <th>Top7</th>\n",
       "      <th>Top8</th>\n",
       "      <th>...</th>\n",
       "      <th>Top16</th>\n",
       "      <th>Top17</th>\n",
       "      <th>Top18</th>\n",
       "      <th>Top19</th>\n",
       "      <th>Top20</th>\n",
       "      <th>Top21</th>\n",
       "      <th>Top22</th>\n",
       "      <th>Top23</th>\n",
       "      <th>Top24</th>\n",
       "      <th>Top25</th>\n",
       "    </tr>\n",
       "  </thead>\n",
       "  <tbody>\n",
       "    <tr>\n",
       "      <th>0</th>\n",
       "      <td>2008-08-08</td>\n",
       "      <td>0</td>\n",
       "      <td>b\"Georgia 'downs two Russian warplanes' as cou...</td>\n",
       "      <td>b'BREAKING: Musharraf to be impeached.'</td>\n",
       "      <td>b'Russia Today: Columns of troops roll into So...</td>\n",
       "      <td>b'Russian tanks are moving towards the capital...</td>\n",
       "      <td>b\"Afghan children raped with 'impunity,' U.N. ...</td>\n",
       "      <td>b'150 Russian tanks have entered South Ossetia...</td>\n",
       "      <td>b\"Breaking: Georgia invades South Ossetia, Rus...</td>\n",
       "      <td>b\"The 'enemy combatent' trials are nothing but...</td>\n",
       "      <td>...</td>\n",
       "      <td>b'Georgia Invades South Ossetia - if Russia ge...</td>\n",
       "      <td>b'Al-Qaeda Faces Islamist Backlash'</td>\n",
       "      <td>b'Condoleezza Rice: \"The US would not act to p...</td>\n",
       "      <td>b'This is a busy day:  The European Union has ...</td>\n",
       "      <td>b\"Georgia will withdraw 1,000 soldiers from Ir...</td>\n",
       "      <td>b'Why the Pentagon Thinks Attacking Iran is a ...</td>\n",
       "      <td>b'Caucasus in crisis: Georgia invades South Os...</td>\n",
       "      <td>b'Indian shoe manufactory  - And again in a se...</td>\n",
       "      <td>b'Visitors Suffering from Mental Illnesses Ban...</td>\n",
       "      <td>b\"No Help for Mexico's Kidnapping Surge\"</td>\n",
       "    </tr>\n",
       "    <tr>\n",
       "      <th>1</th>\n",
       "      <td>2008-08-11</td>\n",
       "      <td>1</td>\n",
       "      <td>b'Why wont America and Nato help us? If they w...</td>\n",
       "      <td>b'Bush puts foot down on Georgian conflict'</td>\n",
       "      <td>b\"Jewish Georgian minister: Thanks to Israeli ...</td>\n",
       "      <td>b'Georgian army flees in disarray as Russians ...</td>\n",
       "      <td>b\"Olympic opening ceremony fireworks 'faked'\"</td>\n",
       "      <td>b'What were the Mossad with fraudulent New Zea...</td>\n",
       "      <td>b'Russia angered by Israeli military sale to G...</td>\n",
       "      <td>b'An American citizen living in S.Ossetia blam...</td>\n",
       "      <td>...</td>\n",
       "      <td>b'Israel and the US behind the Georgian aggres...</td>\n",
       "      <td>b'\"Do not believe TV, neither Russian nor Geor...</td>\n",
       "      <td>b'Riots are still going on in Montreal (Canada...</td>\n",
       "      <td>b'China to overtake US as largest manufacturer'</td>\n",
       "      <td>b'War in South Ossetia [PICS]'</td>\n",
       "      <td>b'Israeli Physicians Group Condemns State Tort...</td>\n",
       "      <td>b' Russia has just beaten the United States ov...</td>\n",
       "      <td>b'Perhaps *the* question about the Georgia - R...</td>\n",
       "      <td>b'Russia is so much better at war'</td>\n",
       "      <td>b\"So this is what it's come to: trading sex fo...</td>\n",
       "    </tr>\n",
       "    <tr>\n",
       "      <th>2</th>\n",
       "      <td>2008-08-12</td>\n",
       "      <td>0</td>\n",
       "      <td>b'Remember that adorable 9-year-old who sang a...</td>\n",
       "      <td>b\"Russia 'ends Georgia operation'\"</td>\n",
       "      <td>b'\"If we had no sexual harassment we would hav...</td>\n",
       "      <td>b\"Al-Qa'eda is losing support in Iraq because ...</td>\n",
       "      <td>b'Ceasefire in Georgia: Putin Outmaneuvers the...</td>\n",
       "      <td>b'Why Microsoft and Intel tried to kill the XO...</td>\n",
       "      <td>b'Stratfor: The Russo-Georgian War and the Bal...</td>\n",
       "      <td>b\"I'm Trying to Get a Sense of This Whole Geor...</td>\n",
       "      <td>...</td>\n",
       "      <td>b'U.S. troops still in Georgia (did you know t...</td>\n",
       "      <td>b'Why Russias response to Georgia was right'</td>\n",
       "      <td>b'Gorbachev accuses U.S. of making a \"serious ...</td>\n",
       "      <td>b'Russia, Georgia, and NATO: Cold War Two'</td>\n",
       "      <td>b'Remember that adorable 62-year-old who led y...</td>\n",
       "      <td>b'War in Georgia: The Israeli connection'</td>\n",
       "      <td>b'All signs point to the US encouraging Georgi...</td>\n",
       "      <td>b'Christopher King argues that the US and NATO...</td>\n",
       "      <td>b'America: The New Mexico?'</td>\n",
       "      <td>b\"BBC NEWS | Asia-Pacific | Extinction 'by man...</td>\n",
       "    </tr>\n",
       "    <tr>\n",
       "      <th>3</th>\n",
       "      <td>2008-08-13</td>\n",
       "      <td>0</td>\n",
       "      <td>b' U.S. refuses Israel weapons to attack Iran:...</td>\n",
       "      <td>b\"When the president ordered to attack Tskhinv...</td>\n",
       "      <td>b' Israel clears troops who killed Reuters cam...</td>\n",
       "      <td>b'Britain\\'s policy of being tough on drugs is...</td>\n",
       "      <td>b'Body of 14 year old found in trunk; Latest (...</td>\n",
       "      <td>b'China has moved 10 *million* quake survivors...</td>\n",
       "      <td>b\"Bush announces Operation Get All Up In Russi...</td>\n",
       "      <td>b'Russian forces sink Georgian ships '</td>\n",
       "      <td>...</td>\n",
       "      <td>b'Elephants extinct by 2020?'</td>\n",
       "      <td>b'US humanitarian missions soon in Georgia - i...</td>\n",
       "      <td>b\"Georgia's DDOS came from US sources\"</td>\n",
       "      <td>b'Russian convoy heads into Georgia, violating...</td>\n",
       "      <td>b'Israeli defence minister: US against strike ...</td>\n",
       "      <td>b'Gorbachev: We Had No Choice'</td>\n",
       "      <td>b'Witness: Russian forces head towards Tbilisi...</td>\n",
       "      <td>b' Quarter of Russians blame U.S. for conflict...</td>\n",
       "      <td>b'Georgian president  says US military will ta...</td>\n",
       "      <td>b'2006: Nobel laureate Aleksander Solzhenitsyn...</td>\n",
       "    </tr>\n",
       "    <tr>\n",
       "      <th>4</th>\n",
       "      <td>2008-08-14</td>\n",
       "      <td>1</td>\n",
       "      <td>b'All the experts admit that we should legalis...</td>\n",
       "      <td>b'War in South Osetia - 89 pictures made by a ...</td>\n",
       "      <td>b'Swedish wrestler Ara Abrahamian throws away ...</td>\n",
       "      <td>b'Russia exaggerated the death toll in South O...</td>\n",
       "      <td>b'Missile That Killed 9 Inside Pakistan May Ha...</td>\n",
       "      <td>b\"Rushdie Condemns Random House's Refusal to P...</td>\n",
       "      <td>b'Poland and US agree to missle defense deal. ...</td>\n",
       "      <td>b'Will the Russians conquer Tblisi? Bet on it,...</td>\n",
       "      <td>...</td>\n",
       "      <td>b'Bank analyst forecast Georgian crisis 2 days...</td>\n",
       "      <td>b\"Georgia confict could set back Russia's US r...</td>\n",
       "      <td>b'War in the Caucasus is as much the product o...</td>\n",
       "      <td>b'\"Non-media\" photos of South Ossetia/Georgia ...</td>\n",
       "      <td>b'Georgian TV reporter shot by Russian sniper ...</td>\n",
       "      <td>b'Saudi Arabia: Mother moves to block child ma...</td>\n",
       "      <td>b'Taliban wages war on humanitarian aid workers'</td>\n",
       "      <td>b'Russia: World  \"can forget about\" Georgia\\'s...</td>\n",
       "      <td>b'Darfur rebels accuse Sudan of mounting major...</td>\n",
       "      <td>b'Philippines : Peace Advocate say Muslims nee...</td>\n",
       "    </tr>\n",
       "  </tbody>\n",
       "</table>\n",
       "<p>5 rows × 27 columns</p>\n",
       "</div>"
      ],
      "text/plain": [
       "         Date  Label                                               Top1  \\\n",
       "0  2008-08-08      0  b\"Georgia 'downs two Russian warplanes' as cou...   \n",
       "1  2008-08-11      1  b'Why wont America and Nato help us? If they w...   \n",
       "2  2008-08-12      0  b'Remember that adorable 9-year-old who sang a...   \n",
       "3  2008-08-13      0  b' U.S. refuses Israel weapons to attack Iran:...   \n",
       "4  2008-08-14      1  b'All the experts admit that we should legalis...   \n",
       "\n",
       "                                                Top2  \\\n",
       "0            b'BREAKING: Musharraf to be impeached.'   \n",
       "1        b'Bush puts foot down on Georgian conflict'   \n",
       "2                 b\"Russia 'ends Georgia operation'\"   \n",
       "3  b\"When the president ordered to attack Tskhinv...   \n",
       "4  b'War in South Osetia - 89 pictures made by a ...   \n",
       "\n",
       "                                                Top3  \\\n",
       "0  b'Russia Today: Columns of troops roll into So...   \n",
       "1  b\"Jewish Georgian minister: Thanks to Israeli ...   \n",
       "2  b'\"If we had no sexual harassment we would hav...   \n",
       "3  b' Israel clears troops who killed Reuters cam...   \n",
       "4  b'Swedish wrestler Ara Abrahamian throws away ...   \n",
       "\n",
       "                                                Top4  \\\n",
       "0  b'Russian tanks are moving towards the capital...   \n",
       "1  b'Georgian army flees in disarray as Russians ...   \n",
       "2  b\"Al-Qa'eda is losing support in Iraq because ...   \n",
       "3  b'Britain\\'s policy of being tough on drugs is...   \n",
       "4  b'Russia exaggerated the death toll in South O...   \n",
       "\n",
       "                                                Top5  \\\n",
       "0  b\"Afghan children raped with 'impunity,' U.N. ...   \n",
       "1      b\"Olympic opening ceremony fireworks 'faked'\"   \n",
       "2  b'Ceasefire in Georgia: Putin Outmaneuvers the...   \n",
       "3  b'Body of 14 year old found in trunk; Latest (...   \n",
       "4  b'Missile That Killed 9 Inside Pakistan May Ha...   \n",
       "\n",
       "                                                Top6  \\\n",
       "0  b'150 Russian tanks have entered South Ossetia...   \n",
       "1  b'What were the Mossad with fraudulent New Zea...   \n",
       "2  b'Why Microsoft and Intel tried to kill the XO...   \n",
       "3  b'China has moved 10 *million* quake survivors...   \n",
       "4  b\"Rushdie Condemns Random House's Refusal to P...   \n",
       "\n",
       "                                                Top7  \\\n",
       "0  b\"Breaking: Georgia invades South Ossetia, Rus...   \n",
       "1  b'Russia angered by Israeli military sale to G...   \n",
       "2  b'Stratfor: The Russo-Georgian War and the Bal...   \n",
       "3  b\"Bush announces Operation Get All Up In Russi...   \n",
       "4  b'Poland and US agree to missle defense deal. ...   \n",
       "\n",
       "                                                Top8  \\\n",
       "0  b\"The 'enemy combatent' trials are nothing but...   \n",
       "1  b'An American citizen living in S.Ossetia blam...   \n",
       "2  b\"I'm Trying to Get a Sense of This Whole Geor...   \n",
       "3             b'Russian forces sink Georgian ships '   \n",
       "4  b'Will the Russians conquer Tblisi? Bet on it,...   \n",
       "\n",
       "                         ...                          \\\n",
       "0                        ...                           \n",
       "1                        ...                           \n",
       "2                        ...                           \n",
       "3                        ...                           \n",
       "4                        ...                           \n",
       "\n",
       "                                               Top16  \\\n",
       "0  b'Georgia Invades South Ossetia - if Russia ge...   \n",
       "1  b'Israel and the US behind the Georgian aggres...   \n",
       "2  b'U.S. troops still in Georgia (did you know t...   \n",
       "3                      b'Elephants extinct by 2020?'   \n",
       "4  b'Bank analyst forecast Georgian crisis 2 days...   \n",
       "\n",
       "                                               Top17  \\\n",
       "0                b'Al-Qaeda Faces Islamist Backlash'   \n",
       "1  b'\"Do not believe TV, neither Russian nor Geor...   \n",
       "2       b'Why Russias response to Georgia was right'   \n",
       "3  b'US humanitarian missions soon in Georgia - i...   \n",
       "4  b\"Georgia confict could set back Russia's US r...   \n",
       "\n",
       "                                               Top18  \\\n",
       "0  b'Condoleezza Rice: \"The US would not act to p...   \n",
       "1  b'Riots are still going on in Montreal (Canada...   \n",
       "2  b'Gorbachev accuses U.S. of making a \"serious ...   \n",
       "3             b\"Georgia's DDOS came from US sources\"   \n",
       "4  b'War in the Caucasus is as much the product o...   \n",
       "\n",
       "                                               Top19  \\\n",
       "0  b'This is a busy day:  The European Union has ...   \n",
       "1    b'China to overtake US as largest manufacturer'   \n",
       "2         b'Russia, Georgia, and NATO: Cold War Two'   \n",
       "3  b'Russian convoy heads into Georgia, violating...   \n",
       "4  b'\"Non-media\" photos of South Ossetia/Georgia ...   \n",
       "\n",
       "                                               Top20  \\\n",
       "0  b\"Georgia will withdraw 1,000 soldiers from Ir...   \n",
       "1                     b'War in South Ossetia [PICS]'   \n",
       "2  b'Remember that adorable 62-year-old who led y...   \n",
       "3  b'Israeli defence minister: US against strike ...   \n",
       "4  b'Georgian TV reporter shot by Russian sniper ...   \n",
       "\n",
       "                                               Top21  \\\n",
       "0  b'Why the Pentagon Thinks Attacking Iran is a ...   \n",
       "1  b'Israeli Physicians Group Condemns State Tort...   \n",
       "2          b'War in Georgia: The Israeli connection'   \n",
       "3                     b'Gorbachev: We Had No Choice'   \n",
       "4  b'Saudi Arabia: Mother moves to block child ma...   \n",
       "\n",
       "                                               Top22  \\\n",
       "0  b'Caucasus in crisis: Georgia invades South Os...   \n",
       "1  b' Russia has just beaten the United States ov...   \n",
       "2  b'All signs point to the US encouraging Georgi...   \n",
       "3  b'Witness: Russian forces head towards Tbilisi...   \n",
       "4   b'Taliban wages war on humanitarian aid workers'   \n",
       "\n",
       "                                               Top23  \\\n",
       "0  b'Indian shoe manufactory  - And again in a se...   \n",
       "1  b'Perhaps *the* question about the Georgia - R...   \n",
       "2  b'Christopher King argues that the US and NATO...   \n",
       "3  b' Quarter of Russians blame U.S. for conflict...   \n",
       "4  b'Russia: World  \"can forget about\" Georgia\\'s...   \n",
       "\n",
       "                                               Top24  \\\n",
       "0  b'Visitors Suffering from Mental Illnesses Ban...   \n",
       "1                 b'Russia is so much better at war'   \n",
       "2                        b'America: The New Mexico?'   \n",
       "3  b'Georgian president  says US military will ta...   \n",
       "4  b'Darfur rebels accuse Sudan of mounting major...   \n",
       "\n",
       "                                               Top25  \n",
       "0           b\"No Help for Mexico's Kidnapping Surge\"  \n",
       "1  b\"So this is what it's come to: trading sex fo...  \n",
       "2  b\"BBC NEWS | Asia-Pacific | Extinction 'by man...  \n",
       "3  b'2006: Nobel laureate Aleksander Solzhenitsyn...  \n",
       "4  b'Philippines : Peace Advocate say Muslims nee...  \n",
       "\n",
       "[5 rows x 27 columns]"
      ]
     },
     "execution_count": 4,
     "metadata": {},
     "output_type": "execute_result"
    }
   ],
   "source": [
    "data.head()"
   ]
  },
  {
   "cell_type": "code",
   "execution_count": 5,
   "metadata": {},
   "outputs": [
    {
     "data": {
      "text/plain": [
       "(1989, 27)"
      ]
     },
     "execution_count": 5,
     "metadata": {},
     "output_type": "execute_result"
    }
   ],
   "source": [
    "data.shape"
   ]
  },
  {
   "cell_type": "markdown",
   "metadata": {},
   "source": [
    "# 合并headline"
   ]
  },
  {
   "cell_type": "code",
   "execution_count": 6,
   "metadata": {},
   "outputs": [],
   "source": [
    "data['combined_news']=data.filter(regex=('Top.*')).apply(lambda x:''.join(str(x.values)),axis=1)#filter用法"
   ]
  },
  {
   "cell_type": "markdown",
   "metadata": {},
   "source": [
    "# 分割测试集和训练集\n",
    "## trainingdata和testingdata"
   ]
  },
  {
   "cell_type": "code",
   "execution_count": 7,
   "metadata": {},
   "outputs": [],
   "source": [
    "train =data[data['Date']<'2015-01-01']\n",
    "test =data[data['Date']>'2014-12-31']"
   ]
  },
  {
   "cell_type": "markdown",
   "metadata": {},
   "source": [
    "# 提取features"
   ]
  },
  {
   "cell_type": "code",
   "execution_count": 8,
   "metadata": {},
   "outputs": [
    {
     "data": {
      "text/plain": [
       "((1611, 28), (378, 28))"
      ]
     },
     "execution_count": 8,
     "metadata": {},
     "output_type": "execute_result"
    }
   ],
   "source": [
    "train.shape,test.shape"
   ]
  },
  {
   "cell_type": "code",
   "execution_count": 9,
   "metadata": {},
   "outputs": [],
   "source": [
    "feature_extraction =TfidfVectorizer()\n",
    "X_train =feature_extraction.fit_transform(train['combined_news'])"
   ]
  },
  {
   "cell_type": "code",
   "execution_count": 10,
   "metadata": {},
   "outputs": [
    {
     "data": {
      "text/plain": [
       "<1611x32154 sparse matrix of type '<class 'numpy.float64'>'\n",
       "\twith 489538 stored elements in Compressed Sparse Row format>"
      ]
     },
     "execution_count": 10,
     "metadata": {},
     "output_type": "execute_result"
    }
   ],
   "source": [
    "X_train"
   ]
  },
  {
   "cell_type": "markdown",
   "metadata": {},
   "source": [
    "#  直接给x_test做transform"
   ]
  },
  {
   "cell_type": "code",
   "execution_count": 11,
   "metadata": {},
   "outputs": [],
   "source": [
    "X_test=feature_extraction.transform(test['combined_news'].values)"
   ]
  },
  {
   "cell_type": "code",
   "execution_count": 12,
   "metadata": {},
   "outputs": [
    {
     "data": {
      "text/plain": [
       "<378x32154 sparse matrix of type '<class 'numpy.float64'>'\n",
       "\twith 116084 stored elements in Compressed Sparse Row format>"
      ]
     },
     "execution_count": 12,
     "metadata": {},
     "output_type": "execute_result"
    }
   ],
   "source": [
    "X_test"
   ]
  },
  {
   "cell_type": "code",
   "execution_count": 13,
   "metadata": {},
   "outputs": [],
   "source": [
    "y_train =train['Label'].values\n",
    "y_test =test['Label'].values"
   ]
  },
  {
   "cell_type": "markdown",
   "metadata": {},
   "source": [
    "# 训练模型"
   ]
  },
  {
   "cell_type": "code",
   "execution_count": 14,
   "metadata": {},
   "outputs": [],
   "source": [
    "clf =SVC(probability=True,kernel='rbf')"
   ]
  },
  {
   "cell_type": "code",
   "execution_count": 15,
   "metadata": {},
   "outputs": [
    {
     "data": {
      "text/plain": [
       "SVC(C=1.0, cache_size=200, class_weight=None, coef0=0.0,\n",
       "  decision_function_shape='ovr', degree=3, gamma='auto', kernel='rbf',\n",
       "  max_iter=-1, probability=True, random_state=None, shrinking=True,\n",
       "  tol=0.001, verbose=False)"
      ]
     },
     "execution_count": 15,
     "metadata": {},
     "output_type": "execute_result"
    }
   ],
   "source": [
    "clf.fit(X_train,y_train)"
   ]
  },
  {
   "cell_type": "code",
   "execution_count": 16,
   "metadata": {},
   "outputs": [],
   "source": [
    "predictions=clf.predict_proba(X_test)"
   ]
  },
  {
   "cell_type": "code",
   "execution_count": 17,
   "metadata": {},
   "outputs": [
    {
     "data": {
      "text/plain": [
       "array([[ 0.48714085,  0.51285915],\n",
       "       [ 0.50890348,  0.49109652],\n",
       "       [ 0.47080546,  0.52919454],\n",
       "       [ 0.48843686,  0.51156314],\n",
       "       [ 0.43508191,  0.56491809],\n",
       "       [ 0.49116468,  0.50883532],\n",
       "       [ 0.5       ,  0.5       ],\n",
       "       [ 0.46175818,  0.53824182],\n",
       "       [ 0.4725255 ,  0.5274745 ],\n",
       "       [ 0.47052473,  0.52947527],\n",
       "       [ 0.49183086,  0.50816914],\n",
       "       [ 0.46179553,  0.53820447],\n",
       "       [ 0.48112889,  0.51887111],\n",
       "       [ 0.5       ,  0.5       ],\n",
       "       [ 0.5       ,  0.5       ],\n",
       "       [ 0.48084857,  0.51915143],\n",
       "       [ 0.49017496,  0.50982504],\n",
       "       [ 0.47105513,  0.52894487],\n",
       "       [ 0.47510616,  0.52489384],\n",
       "       [ 0.46495426,  0.53504574],\n",
       "       [ 0.49051005,  0.50948995],\n",
       "       [ 0.47531914,  0.52468086],\n",
       "       [ 0.47029879,  0.52970121],\n",
       "       [ 0.49379773,  0.50620227],\n",
       "       [ 0.49485125,  0.50514875],\n",
       "       [ 0.43721151,  0.56278849],\n",
       "       [ 0.48549496,  0.51450504],\n",
       "       [ 0.48286836,  0.51713164],\n",
       "       [ 0.46183836,  0.53816164],\n",
       "       [ 0.46184755,  0.53815245],\n",
       "       [ 0.49139235,  0.50860765],\n",
       "       [ 0.49339748,  0.50660252],\n",
       "       [ 0.51919006,  0.48080994],\n",
       "       [ 0.47079282,  0.52920718],\n",
       "       [ 0.5       ,  0.5       ],\n",
       "       [ 0.46459389,  0.53540611],\n",
       "       [ 0.50819394,  0.49180606],\n",
       "       [ 0.51260562,  0.48739438],\n",
       "       [ 0.48040551,  0.51959449],\n",
       "       [ 0.47624635,  0.52375365],\n",
       "       [ 0.5       ,  0.5       ],\n",
       "       [ 0.50952334,  0.49047666],\n",
       "       [ 0.52700111,  0.47299889],\n",
       "       [ 0.4765436 ,  0.5234564 ],\n",
       "       [ 0.48447127,  0.51552873],\n",
       "       [ 0.48413096,  0.51586904],\n",
       "       [ 0.48353214,  0.51646786],\n",
       "       [ 0.5       ,  0.5       ],\n",
       "       [ 0.51964309,  0.48035691],\n",
       "       [ 0.50864531,  0.49135469],\n",
       "       [ 0.5       ,  0.5       ],\n",
       "       [ 0.46738579,  0.53261421],\n",
       "       [ 0.5       ,  0.5       ],\n",
       "       [ 0.5       ,  0.5       ],\n",
       "       [ 0.44108433,  0.55891567],\n",
       "       [ 0.46613974,  0.53386026],\n",
       "       [ 0.48225433,  0.51774567],\n",
       "       [ 0.5       ,  0.5       ],\n",
       "       [ 0.45730781,  0.54269219],\n",
       "       [ 0.45620039,  0.54379961],\n",
       "       [ 0.4923253 ,  0.5076747 ],\n",
       "       [ 0.46682083,  0.53317917],\n",
       "       [ 0.48646425,  0.51353575],\n",
       "       [ 0.46464692,  0.53535308],\n",
       "       [ 0.47096526,  0.52903474],\n",
       "       [ 0.47520675,  0.52479325],\n",
       "       [ 0.46100528,  0.53899472],\n",
       "       [ 0.5       ,  0.5       ],\n",
       "       [ 0.46253174,  0.53746826],\n",
       "       [ 0.4873225 ,  0.5126775 ],\n",
       "       [ 0.47783887,  0.52216113],\n",
       "       [ 0.49193818,  0.50806182],\n",
       "       [ 0.48094113,  0.51905887],\n",
       "       [ 0.5       ,  0.5       ],\n",
       "       [ 0.50831005,  0.49168995],\n",
       "       [ 0.5       ,  0.5       ],\n",
       "       [ 0.49163454,  0.50836546],\n",
       "       [ 0.51182436,  0.48817564],\n",
       "       [ 0.47000028,  0.52999972],\n",
       "       [ 0.49495444,  0.50504556],\n",
       "       [ 0.5       ,  0.5       ],\n",
       "       [ 0.46576868,  0.53423132],\n",
       "       [ 0.5       ,  0.5       ],\n",
       "       [ 0.48232328,  0.51767672],\n",
       "       [ 0.4770097 ,  0.5229903 ],\n",
       "       [ 0.5       ,  0.5       ],\n",
       "       [ 0.47759758,  0.52240242],\n",
       "       [ 0.4628583 ,  0.5371417 ],\n",
       "       [ 0.5       ,  0.5       ],\n",
       "       [ 0.47070303,  0.52929697],\n",
       "       [ 0.48066376,  0.51933624],\n",
       "       [ 0.45907066,  0.54092934],\n",
       "       [ 0.54161158,  0.45838842],\n",
       "       [ 0.48895561,  0.51104439],\n",
       "       [ 0.52324788,  0.47675212],\n",
       "       [ 0.48595753,  0.51404247],\n",
       "       [ 0.47810633,  0.52189367],\n",
       "       [ 0.50892882,  0.49107118],\n",
       "       [ 0.5       ,  0.5       ],\n",
       "       [ 0.48475654,  0.51524346],\n",
       "       [ 0.46247742,  0.53752258],\n",
       "       [ 0.48181353,  0.51818647],\n",
       "       [ 0.46266978,  0.53733022],\n",
       "       [ 0.47524413,  0.52475587],\n",
       "       [ 0.49245522,  0.50754478],\n",
       "       [ 0.47253269,  0.52746731],\n",
       "       [ 0.50523679,  0.49476321],\n",
       "       [ 0.49233242,  0.50766758],\n",
       "       [ 0.48350353,  0.51649647],\n",
       "       [ 0.5       ,  0.5       ],\n",
       "       [ 0.49196503,  0.50803497],\n",
       "       [ 0.5       ,  0.5       ],\n",
       "       [ 0.46342766,  0.53657234],\n",
       "       [ 0.5       ,  0.5       ],\n",
       "       [ 0.48231929,  0.51768071],\n",
       "       [ 0.49187312,  0.50812688],\n",
       "       [ 0.47928445,  0.52071555],\n",
       "       [ 0.4946199 ,  0.5053801 ],\n",
       "       [ 0.47304135,  0.52695865],\n",
       "       [ 0.5       ,  0.5       ],\n",
       "       [ 0.45577624,  0.54422376],\n",
       "       [ 0.44245934,  0.55754066],\n",
       "       [ 0.48522355,  0.51477645],\n",
       "       [ 0.45309652,  0.54690348],\n",
       "       [ 0.46480862,  0.53519138],\n",
       "       [ 0.5163149 ,  0.4836851 ],\n",
       "       [ 0.48830472,  0.51169528],\n",
       "       [ 0.45780668,  0.54219332],\n",
       "       [ 0.47887212,  0.52112788],\n",
       "       [ 0.45444148,  0.54555852],\n",
       "       [ 0.5       ,  0.5       ],\n",
       "       [ 0.44918337,  0.55081663],\n",
       "       [ 0.48186804,  0.51813196],\n",
       "       [ 0.48999092,  0.51000908],\n",
       "       [ 0.5       ,  0.5       ],\n",
       "       [ 0.5       ,  0.5       ],\n",
       "       [ 0.44825138,  0.55174862],\n",
       "       [ 0.51587099,  0.48412901],\n",
       "       [ 0.47442031,  0.52557969],\n",
       "       [ 0.5       ,  0.5       ],\n",
       "       [ 0.51600565,  0.48399435],\n",
       "       [ 0.48282274,  0.51717726],\n",
       "       [ 0.4802603 ,  0.5197397 ],\n",
       "       [ 0.46888077,  0.53111923],\n",
       "       [ 0.51141397,  0.48858603],\n",
       "       [ 0.52301726,  0.47698274],\n",
       "       [ 0.5       ,  0.5       ],\n",
       "       [ 0.5       ,  0.5       ],\n",
       "       [ 0.4782757 ,  0.5217243 ],\n",
       "       [ 0.47242116,  0.52757884],\n",
       "       [ 0.47716194,  0.52283806],\n",
       "       [ 0.46157514,  0.53842486],\n",
       "       [ 0.47193137,  0.52806863],\n",
       "       [ 0.5       ,  0.5       ],\n",
       "       [ 0.48302761,  0.51697239],\n",
       "       [ 0.47913434,  0.52086566],\n",
       "       [ 0.44733507,  0.55266493],\n",
       "       [ 0.4753093 ,  0.5246907 ],\n",
       "       [ 0.5       ,  0.5       ],\n",
       "       [ 0.52012078,  0.47987922],\n",
       "       [ 0.48278821,  0.51721179],\n",
       "       [ 0.47302895,  0.52697105],\n",
       "       [ 0.48556437,  0.51443563],\n",
       "       [ 0.49010555,  0.50989445],\n",
       "       [ 0.51778843,  0.48221157],\n",
       "       [ 0.46713264,  0.53286736],\n",
       "       [ 0.4754385 ,  0.5245615 ],\n",
       "       [ 0.48696181,  0.51303819],\n",
       "       [ 0.485585  ,  0.514415  ],\n",
       "       [ 0.4922343 ,  0.5077657 ],\n",
       "       [ 0.48021534,  0.51978466],\n",
       "       [ 0.5       ,  0.5       ],\n",
       "       [ 0.45071447,  0.54928553],\n",
       "       [ 0.5       ,  0.5       ],\n",
       "       [ 0.45068655,  0.54931345],\n",
       "       [ 0.50538034,  0.49461966],\n",
       "       [ 0.5       ,  0.5       ],\n",
       "       [ 0.46614053,  0.53385947],\n",
       "       [ 0.45706289,  0.54293711],\n",
       "       [ 0.47909845,  0.52090155],\n",
       "       [ 0.5       ,  0.5       ],\n",
       "       [ 0.5       ,  0.5       ],\n",
       "       [ 0.46978366,  0.53021634],\n",
       "       [ 0.48031671,  0.51968329],\n",
       "       [ 0.48175631,  0.51824369],\n",
       "       [ 0.49418185,  0.50581815],\n",
       "       [ 0.5199792 ,  0.4800208 ],\n",
       "       [ 0.48898464,  0.51101536],\n",
       "       [ 0.49226581,  0.50773419],\n",
       "       [ 0.47118877,  0.52881123],\n",
       "       [ 0.53300932,  0.46699068],\n",
       "       [ 0.5       ,  0.5       ],\n",
       "       [ 0.44617743,  0.55382257],\n",
       "       [ 0.46823805,  0.53176195],\n",
       "       [ 0.53707399,  0.46292601],\n",
       "       [ 0.47086256,  0.52913744],\n",
       "       [ 0.46429878,  0.53570122],\n",
       "       [ 0.51671072,  0.48328928],\n",
       "       [ 0.5       ,  0.5       ],\n",
       "       [ 0.46939725,  0.53060275],\n",
       "       [ 0.49121009,  0.50878991],\n",
       "       [ 0.48647573,  0.51352427],\n",
       "       [ 0.51322749,  0.48677251],\n",
       "       [ 0.5       ,  0.5       ],\n",
       "       [ 0.5       ,  0.5       ],\n",
       "       [ 0.48848889,  0.51151111],\n",
       "       [ 0.51404076,  0.48595924],\n",
       "       [ 0.4775003 ,  0.5224997 ],\n",
       "       [ 0.51693573,  0.48306427],\n",
       "       [ 0.5       ,  0.5       ],\n",
       "       [ 0.51927736,  0.48072264],\n",
       "       [ 0.50803328,  0.49196672],\n",
       "       [ 0.51575989,  0.48424011],\n",
       "       [ 0.5       ,  0.5       ],\n",
       "       [ 0.5       ,  0.5       ],\n",
       "       [ 0.46958004,  0.53041996],\n",
       "       [ 0.44132542,  0.55867458],\n",
       "       [ 0.51680704,  0.48319296],\n",
       "       [ 0.4888703 ,  0.5111297 ],\n",
       "       [ 0.46287477,  0.53712523],\n",
       "       [ 0.48509212,  0.51490788],\n",
       "       [ 0.46648722,  0.53351278],\n",
       "       [ 0.4602866 ,  0.5397134 ],\n",
       "       [ 0.45056491,  0.54943509],\n",
       "       [ 0.5       ,  0.5       ],\n",
       "       [ 0.45346558,  0.54653442],\n",
       "       [ 0.44962514,  0.55037486],\n",
       "       [ 0.42474595,  0.57525405],\n",
       "       [ 0.46721178,  0.53278822],\n",
       "       [ 0.47888178,  0.52111822],\n",
       "       [ 0.45059072,  0.54940928],\n",
       "       [ 0.44692374,  0.55307626],\n",
       "       [ 0.4779122 ,  0.5220878 ],\n",
       "       [ 0.4735301 ,  0.5264699 ],\n",
       "       [ 0.51752469,  0.48247531],\n",
       "       [ 0.5       ,  0.5       ],\n",
       "       [ 0.5       ,  0.5       ],\n",
       "       [ 0.5       ,  0.5       ],\n",
       "       [ 0.5       ,  0.5       ],\n",
       "       [ 0.5       ,  0.5       ],\n",
       "       [ 0.48324283,  0.51675717],\n",
       "       [ 0.48960871,  0.51039129],\n",
       "       [ 0.48143888,  0.51856112],\n",
       "       [ 0.48657265,  0.51342735],\n",
       "       [ 0.46220186,  0.53779814],\n",
       "       [ 0.45187155,  0.54812845],\n",
       "       [ 0.4466677 ,  0.5533323 ],\n",
       "       [ 0.5       ,  0.5       ],\n",
       "       [ 0.46278753,  0.53721247],\n",
       "       [ 0.47670292,  0.52329708],\n",
       "       [ 0.45718109,  0.54281891],\n",
       "       [ 0.49255389,  0.50744611],\n",
       "       [ 0.44672908,  0.55327092],\n",
       "       [ 0.47482597,  0.52517403],\n",
       "       [ 0.47879314,  0.52120686],\n",
       "       [ 0.48143354,  0.51856646],\n",
       "       [ 0.48813501,  0.51186499],\n",
       "       [ 0.5       ,  0.5       ],\n",
       "       [ 0.46491085,  0.53508915],\n",
       "       [ 0.49159776,  0.50840224],\n",
       "       [ 0.4646198 ,  0.5353802 ],\n",
       "       [ 0.42243904,  0.57756096],\n",
       "       [ 0.47551516,  0.52448484],\n",
       "       [ 0.48467714,  0.51532286],\n",
       "       [ 0.5       ,  0.5       ],\n",
       "       [ 0.46928962,  0.53071038],\n",
       "       [ 0.45886652,  0.54113348],\n",
       "       [ 0.46192898,  0.53807102],\n",
       "       [ 0.49124735,  0.50875265],\n",
       "       [ 0.45075185,  0.54924815],\n",
       "       [ 0.45833909,  0.54166091],\n",
       "       [ 0.48646806,  0.51353194],\n",
       "       [ 0.47217818,  0.52782182],\n",
       "       [ 0.5       ,  0.5       ],\n",
       "       [ 0.5099291 ,  0.4900709 ],\n",
       "       [ 0.48284991,  0.51715009],\n",
       "       [ 0.46852703,  0.53147297],\n",
       "       [ 0.42667969,  0.57332031],\n",
       "       [ 0.46920337,  0.53079663],\n",
       "       [ 0.48563857,  0.51436143],\n",
       "       [ 0.48027723,  0.51972277],\n",
       "       [ 0.48626849,  0.51373151],\n",
       "       [ 0.44633468,  0.55366532],\n",
       "       [ 0.48885335,  0.51114665],\n",
       "       [ 0.47708705,  0.52291295],\n",
       "       [ 0.51020898,  0.48979102],\n",
       "       [ 0.47223963,  0.52776037],\n",
       "       [ 0.45371407,  0.54628593],\n",
       "       [ 0.48868448,  0.51131552],\n",
       "       [ 0.46793767,  0.53206233],\n",
       "       [ 0.5       ,  0.5       ],\n",
       "       [ 0.5       ,  0.5       ],\n",
       "       [ 0.50664094,  0.49335906],\n",
       "       [ 0.47743473,  0.52256527],\n",
       "       [ 0.44036157,  0.55963843],\n",
       "       [ 0.5       ,  0.5       ],\n",
       "       [ 0.5       ,  0.5       ],\n",
       "       [ 0.45715817,  0.54284183],\n",
       "       [ 0.52866087,  0.47133913],\n",
       "       [ 0.45837098,  0.54162902],\n",
       "       [ 0.49076092,  0.50923908],\n",
       "       [ 0.45030823,  0.54969177],\n",
       "       [ 0.48028407,  0.51971593],\n",
       "       [ 0.47366112,  0.52633888],\n",
       "       [ 0.48304966,  0.51695034],\n",
       "       [ 0.5       ,  0.5       ],\n",
       "       [ 0.51213084,  0.48786916],\n",
       "       [ 0.51455107,  0.48544893],\n",
       "       [ 0.50709099,  0.49290901],\n",
       "       [ 0.48281884,  0.51718116],\n",
       "       [ 0.47080638,  0.52919362],\n",
       "       [ 0.475977  ,  0.524023  ],\n",
       "       [ 0.49319804,  0.50680196],\n",
       "       [ 0.49398009,  0.50601991],\n",
       "       [ 0.44099772,  0.55900228],\n",
       "       [ 0.47309704,  0.52690296],\n",
       "       [ 0.42944827,  0.57055173],\n",
       "       [ 0.41844801,  0.58155199],\n",
       "       [ 0.46507137,  0.53492863],\n",
       "       [ 0.5       ,  0.5       ],\n",
       "       [ 0.48989407,  0.51010593],\n",
       "       [ 0.47622833,  0.52377167],\n",
       "       [ 0.5       ,  0.5       ],\n",
       "       [ 0.45818994,  0.54181006],\n",
       "       [ 0.46267756,  0.53732244],\n",
       "       [ 0.47936979,  0.52063021],\n",
       "       [ 0.49337434,  0.50662566],\n",
       "       [ 0.48008319,  0.51991681],\n",
       "       [ 0.46809635,  0.53190365],\n",
       "       [ 0.47320238,  0.52679762],\n",
       "       [ 0.4560376 ,  0.5439624 ],\n",
       "       [ 0.47954653,  0.52045347],\n",
       "       [ 0.46571627,  0.53428373],\n",
       "       [ 0.47780347,  0.52219653],\n",
       "       [ 0.45236237,  0.54763763],\n",
       "       [ 0.51508698,  0.48491302],\n",
       "       [ 0.5       ,  0.5       ],\n",
       "       [ 0.45674867,  0.54325133],\n",
       "       [ 0.47163491,  0.52836509],\n",
       "       [ 0.49329551,  0.50670449],\n",
       "       [ 0.5       ,  0.5       ],\n",
       "       [ 0.52044616,  0.47955384],\n",
       "       [ 0.47037908,  0.52962092],\n",
       "       [ 0.5       ,  0.5       ],\n",
       "       [ 0.46485485,  0.53514515],\n",
       "       [ 0.5       ,  0.5       ],\n",
       "       [ 0.48510075,  0.51489925],\n",
       "       [ 0.4893897 ,  0.5106103 ],\n",
       "       [ 0.46474616,  0.53525384],\n",
       "       [ 0.44663214,  0.55336786],\n",
       "       [ 0.51139642,  0.48860358],\n",
       "       [ 0.4739504 ,  0.5260496 ],\n",
       "       [ 0.45519911,  0.54480089],\n",
       "       [ 0.47121918,  0.52878082],\n",
       "       [ 0.49003473,  0.50996527],\n",
       "       [ 0.5       ,  0.5       ],\n",
       "       [ 0.46990604,  0.53009396],\n",
       "       [ 0.49234222,  0.50765778],\n",
       "       [ 0.46648491,  0.53351509],\n",
       "       [ 0.46748973,  0.53251027],\n",
       "       [ 0.5       ,  0.5       ],\n",
       "       [ 0.47441801,  0.52558199],\n",
       "       [ 0.49386307,  0.50613693],\n",
       "       [ 0.46505088,  0.53494912],\n",
       "       [ 0.51867665,  0.48132335],\n",
       "       [ 0.46379723,  0.53620277],\n",
       "       [ 0.48916366,  0.51083634],\n",
       "       [ 0.48546435,  0.51453565],\n",
       "       [ 0.49450207,  0.50549793],\n",
       "       [ 0.45533191,  0.54466809],\n",
       "       [ 0.5       ,  0.5       ],\n",
       "       [ 0.47610311,  0.52389689],\n",
       "       [ 0.5       ,  0.5       ],\n",
       "       [ 0.47421767,  0.52578233],\n",
       "       [ 0.5       ,  0.5       ],\n",
       "       [ 0.47904407,  0.52095593],\n",
       "       [ 0.47639901,  0.52360099],\n",
       "       [ 0.47329155,  0.52670845]])"
      ]
     },
     "execution_count": 17,
     "metadata": {},
     "output_type": "execute_result"
    }
   ],
   "source": [
    "predictions"
   ]
  },
  {
   "cell_type": "markdown",
   "metadata": {},
   "source": [
    "# 验证准确度"
   ]
  },
  {
   "cell_type": "code",
   "execution_count": 18,
   "metadata": {},
   "outputs": [
    {
     "data": {
      "text/plain": [
       "0.57137656810035842"
      ]
     },
     "execution_count": 18,
     "metadata": {},
     "output_type": "execute_result"
    }
   ],
   "source": [
    "roc_auc_score(y_test,predictions[:,1])"
   ]
  },
  {
   "cell_type": "markdown",
   "metadata": {},
   "source": [
    "# 小写/分成小tokes"
   ]
  },
  {
   "cell_type": "code",
   "execution_count": 28,
   "metadata": {},
   "outputs": [
    {
     "name": "stdout",
     "output_type": "stream",
     "text": [
      "['[', 'most', 'cases', 'of', 'cancer', 'are', 'the', 'result', 'of', 'sheer', 'bad', 'luck', 'rather', 'than', 'unhealthy', 'lifestyles,', 'diet', 'or', 'even', 'inherited', 'genes,', 'new', 'research', 'suggests.', 'random', 'mutations', 'that', 'occur', 'in', 'dna', 'when', 'cells', 'divide', 'are', 'responsible', 'for', 'two', 'thirds', 'of', 'adult', 'cancers', 'across', 'a', 'wide', 'range', 'of', 'tissues.', 'iran', 'dismissed', 'united', 'states', 'efforts', 'to', 'fight', 'islamic', 'state', 'as', 'a', 'ploy', 'to', 'advance', 'u.s.', 'policies', 'in', 'the', 'region:', 'the', 'reality', 'is', 'that', 'the', 'united', 'states', 'is', 'not', 'acting', 'to', 'eliminate', 'daesh.', 'they', 'are', 'not', 'even', 'interested', 'in', 'weakening', 'daesh,', 'they', 'are', 'only', 'interested', 'in', 'managing', 'it', 'poll:', 'one', 'in', '8', 'germans', 'would', 'join', 'anti-muslim', 'marches', 'uk', 'royal', 'familys', 'prince', 'andrew', 'named', 'in', 'us', 'lawsuit', 'over', 'underage', 'sex', 'allegations', 'some', '40', 'asylum-seekers', 'refused', 'to', 'leave', 'the', 'bus', 'when', 'they', 'arrived', 'at', 'their', 'destination', 'in', 'rural', 'northern', 'sweden,', 'demanding', 'that', 'they', 'be', 'taken', 'back', 'to', 'malm', 'or', 'some', 'big', 'city.', 'pakistani', 'boat', 'blows', 'self', 'up', 'after', 'india', 'navy', 'chase.', 'all', 'four', 'people', 'on', 'board', 'the', 'vessel', 'from', 'near', 'the', 'pakistani', 'port', 'city', 'of', 'karachi', 'are', 'believed', 'to', 'have', 'been', 'killed', 'in', 'the', 'dramatic', 'episode', 'in', 'the', 'arabian', 'sea', 'on', 'new', 'years', 'eve,', 'according', 'to', 'indias', 'defence', 'ministry.', 'sweden', 'hit', 'by', 'third', 'mosque', 'arson', 'attack', 'in', 'a', 'week', '940', 'cars', 'set', 'alight', 'during', 'french', 'new', 'year', 'salaries', 'for', 'top', 'ceos', 'rose', 'twice', 'as', 'fast', 'as', 'average', 'canadian', 'since', 'recession:', 'study', 'norway', 'violated', 'equal-pay', 'law,', 'judge', 'says:', 'judge', 'finds', 'consulate', 'employee', 'was', 'unjustly', 'paid', '$30,000', 'less', 'than', 'her', 'male', 'counterpart', 'imam', 'wants', 'radical', 'recruiters', 'of', 'muslim', 'youth', 'in', 'canada', 'identified', 'and', 'dealt', 'with', 'saudi', 'arabia', 'beheaded', '83', 'people', 'in', '2014,', 'the', 'most', 'in', 'years', 'a', 'living', 'hell', 'for', 'slaves', 'on', 'remote', 'south', 'korean', 'islands', '-', 'slavery', 'thrives', 'on', 'this', 'chain', 'of', 'rural', 'islands', 'off', 'south', 'koreas', 'rugged', 'southwest', 'coast,', 'nurtured', 'by', 'a', 'long', 'history', 'of', 'exploitation', 'and', 'the', 'demands', 'of', 'trying', 'to', 'squeeze', 'a', 'living', 'from', 'the', 'sea.', 'worlds', '400', 'richest', 'get', 'richer,', 'adding', '$92bn', 'in', '2014', 'rental', 'car', 'stereos', 'infringe', 'copyright,', 'music', 'rights', 'group', 'says', 'ukrainian', 'minister', 'threatens', 'tv', 'channel', 'with', 'closure', 'for', 'airing', 'russian', 'entertainers', 'palestinian', 'president', 'mahmoud', 'abbas', 'has', 'entered', 'into', 'his', 'most', 'serious', 'confrontation', 'yet', 'with', 'israel', 'by', 'signing', 'onto', 'the', 'international', 'criminal', 'court.', 'his', 'decision', 'on', 'wednesday', 'gives', 'the', 'court', 'jurisdiction', 'over', 'crimes', 'committed', 'in', 'palestinian', 'lands.', 'israeli', 'security', 'center', 'publishes', 'names', 'of', '50', 'killed', 'terrorists', 'concealed', 'by', 'hamas', 'the', 'year', '2014', 'was', 'the', 'deadliest', 'year', 'yet', 'in', 'syrias', 'four-year', 'conflict,', 'with', 'over', '76,000', 'killed', 'a', 'secret', 'underground', 'complex', 'built', 'by', 'the', 'nazis', 'that', 'may', 'have', 'been', 'used', 'for', 'the', 'development', 'of', 'wmds,', 'including', 'a', 'nuclear', 'bomb,', 'has', 'been', 'uncovered', 'in', 'austria.', 'restrictions', 'on', 'web', 'freedom', 'a', 'major', 'global', 'issue', 'in', '2015', 'austrian', 'journalist', 'erich', 'mchel', 'delivered', 'a', 'presentation', 'in', 'hamburg', 'at', 'the', 'annual', 'meeting', 'of', 'the', 'chaos', 'computer', 'club', 'on', 'monday', 'december', '29,', 'detailing', 'the', 'various', 'locations', 'where', 'the', 'us', 'nsa', 'has', 'been', 'actively', 'collecting', 'and', 'processing', 'electronic', 'intelligence', 'in', 'vienna.', 'thousands', 'of', 'ukraine', 'nationalists', 'march', 'in', 'kiev', 'chinas', 'new', 'years', 'resolution:', 'no', 'more', 'harvesting', 'executed', 'prisoners', 'organs', 'authorities', 'pull', 'plug', 'on', 'russias', 'last', 'politically', 'independent', 'tv', 'station]']\n"
     ]
    }
   ],
   "source": [
    "X_train =train['combined_news'].str.lower().str.replace('\"','').str.replace(\"'\",'').str.split()\n",
    "X_test =test['combined_news'].str.lower().str.replace('\"','').str.replace(\"'\",'').str.split()\n",
    "print(X_test[1611])"
   ]
  },
  {
   "cell_type": "code",
   "execution_count": 20,
   "metadata": {
    "scrolled": true
   },
   "outputs": [
    {
     "ename": "LookupError",
     "evalue": "\n**********************************************************************\n  Resource \u001b[93mstopwords\u001b[0m not found.\n  Please use the NLTK Downloader to obtain the resource:\n\n  \u001b[31m>>> import nltk\n  >>> nltk.download('stopwords')\n  \u001b[0m\n  Searched in:\n    - 'C:\\\\Users\\\\kate/nltk_data'\n    - 'C:\\\\nltk_data'\n    - 'D:\\\\nltk_data'\n    - 'E:\\\\nltk_data'\n    - 'i:\\\\pythonproject\\\\python\\\\python36-32\\\\nltk_data'\n    - 'i:\\\\pythonproject\\\\python\\\\python36-32\\\\lib\\\\nltk_data'\n    - 'C:\\\\Users\\\\kate\\\\AppData\\\\Roaming\\\\nltk_data'\n**********************************************************************\n",
     "output_type": "error",
     "traceback": [
      "\u001b[1;31m---------------------------------------------------------------------------\u001b[0m",
      "\u001b[1;31mLookupError\u001b[0m                               Traceback (most recent call last)",
      "\u001b[1;32mi:\\pythonproject\\python\\python36-32\\lib\\site-packages\\nltk\\corpus\\util.py\u001b[0m in \u001b[0;36m__load\u001b[1;34m(self)\u001b[0m\n\u001b[0;32m     79\u001b[0m             \u001b[1;32mexcept\u001b[0m \u001b[0mLookupError\u001b[0m \u001b[1;32mas\u001b[0m \u001b[0me\u001b[0m\u001b[1;33m:\u001b[0m\u001b[1;33m\u001b[0m\u001b[0m\n\u001b[1;32m---> 80\u001b[1;33m                 \u001b[1;32mtry\u001b[0m\u001b[1;33m:\u001b[0m \u001b[0mroot\u001b[0m \u001b[1;33m=\u001b[0m \u001b[0mnltk\u001b[0m\u001b[1;33m.\u001b[0m\u001b[0mdata\u001b[0m\u001b[1;33m.\u001b[0m\u001b[0mfind\u001b[0m\u001b[1;33m(\u001b[0m\u001b[1;34m'{}/{}'\u001b[0m\u001b[1;33m.\u001b[0m\u001b[0mformat\u001b[0m\u001b[1;33m(\u001b[0m\u001b[0mself\u001b[0m\u001b[1;33m.\u001b[0m\u001b[0msubdir\u001b[0m\u001b[1;33m,\u001b[0m \u001b[0mzip_name\u001b[0m\u001b[1;33m)\u001b[0m\u001b[1;33m)\u001b[0m\u001b[1;33m\u001b[0m\u001b[0m\n\u001b[0m\u001b[0;32m     81\u001b[0m                 \u001b[1;32mexcept\u001b[0m \u001b[0mLookupError\u001b[0m\u001b[1;33m:\u001b[0m \u001b[1;32mraise\u001b[0m \u001b[0me\u001b[0m\u001b[1;33m\u001b[0m\u001b[0m\n",
      "\u001b[1;32mi:\\pythonproject\\python\\python36-32\\lib\\site-packages\\nltk\\data.py\u001b[0m in \u001b[0;36mfind\u001b[1;34m(resource_name, paths)\u001b[0m\n\u001b[0;32m    672\u001b[0m     \u001b[0mresource_not_found\u001b[0m \u001b[1;33m=\u001b[0m \u001b[1;34m'\\n%s\\n%s\\n%s\\n'\u001b[0m \u001b[1;33m%\u001b[0m \u001b[1;33m(\u001b[0m\u001b[0msep\u001b[0m\u001b[1;33m,\u001b[0m \u001b[0mmsg\u001b[0m\u001b[1;33m,\u001b[0m \u001b[0msep\u001b[0m\u001b[1;33m)\u001b[0m\u001b[1;33m\u001b[0m\u001b[0m\n\u001b[1;32m--> 673\u001b[1;33m     \u001b[1;32mraise\u001b[0m \u001b[0mLookupError\u001b[0m\u001b[1;33m(\u001b[0m\u001b[0mresource_not_found\u001b[0m\u001b[1;33m)\u001b[0m\u001b[1;33m\u001b[0m\u001b[0m\n\u001b[0m\u001b[0;32m    674\u001b[0m \u001b[1;33m\u001b[0m\u001b[0m\n",
      "\u001b[1;31mLookupError\u001b[0m: \n**********************************************************************\n  Resource \u001b[93mstopwords\u001b[0m not found.\n  Please use the NLTK Downloader to obtain the resource:\n\n  \u001b[31m>>> import nltk\n  >>> nltk.download('stopwords')\n  \u001b[0m\n  Searched in:\n    - 'C:\\\\Users\\\\kate/nltk_data'\n    - 'C:\\\\nltk_data'\n    - 'D:\\\\nltk_data'\n    - 'E:\\\\nltk_data'\n    - 'i:\\\\pythonproject\\\\python\\\\python36-32\\\\nltk_data'\n    - 'i:\\\\pythonproject\\\\python\\\\python36-32\\\\lib\\\\nltk_data'\n    - 'C:\\\\Users\\\\kate\\\\AppData\\\\Roaming\\\\nltk_data'\n**********************************************************************\n",
      "\nDuring handling of the above exception, another exception occurred:\n",
      "\u001b[1;31mLookupError\u001b[0m                               Traceback (most recent call last)",
      "\u001b[1;32m<ipython-input-20-b30e20ad21f1>\u001b[0m in \u001b[0;36m<module>\u001b[1;34m()\u001b[0m\n\u001b[0;32m      1\u001b[0m \u001b[1;32mfrom\u001b[0m \u001b[0mnltk\u001b[0m\u001b[1;33m.\u001b[0m\u001b[0mcorpus\u001b[0m \u001b[1;32mimport\u001b[0m \u001b[0mstopwords\u001b[0m\u001b[1;33m\u001b[0m\u001b[0m\n\u001b[1;32m----> 2\u001b[1;33m \u001b[0mstop\u001b[0m \u001b[1;33m=\u001b[0m\u001b[0mstopwords\u001b[0m\u001b[1;33m.\u001b[0m\u001b[0mwords\u001b[0m\u001b[1;33m(\u001b[0m\u001b[1;34m'english'\u001b[0m\u001b[1;33m)\u001b[0m\u001b[1;33m\u001b[0m\u001b[0m\n\u001b[0m",
      "\u001b[1;32mi:\\pythonproject\\python\\python36-32\\lib\\site-packages\\nltk\\corpus\\util.py\u001b[0m in \u001b[0;36m__getattr__\u001b[1;34m(self, attr)\u001b[0m\n\u001b[0;32m    114\u001b[0m             \u001b[1;32mraise\u001b[0m \u001b[0mAttributeError\u001b[0m\u001b[1;33m(\u001b[0m\u001b[1;34m\"LazyCorpusLoader object has no attribute '__bases__'\"\u001b[0m\u001b[1;33m)\u001b[0m\u001b[1;33m\u001b[0m\u001b[0m\n\u001b[0;32m    115\u001b[0m \u001b[1;33m\u001b[0m\u001b[0m\n\u001b[1;32m--> 116\u001b[1;33m         \u001b[0mself\u001b[0m\u001b[1;33m.\u001b[0m\u001b[0m__load\u001b[0m\u001b[1;33m(\u001b[0m\u001b[1;33m)\u001b[0m\u001b[1;33m\u001b[0m\u001b[0m\n\u001b[0m\u001b[0;32m    117\u001b[0m         \u001b[1;31m# This looks circular, but its not, since __load() changes our\u001b[0m\u001b[1;33m\u001b[0m\u001b[1;33m\u001b[0m\u001b[0m\n\u001b[0;32m    118\u001b[0m         \u001b[1;31m# __class__ to something new:\u001b[0m\u001b[1;33m\u001b[0m\u001b[1;33m\u001b[0m\u001b[0m\n",
      "\u001b[1;32mi:\\pythonproject\\python\\python36-32\\lib\\site-packages\\nltk\\corpus\\util.py\u001b[0m in \u001b[0;36m__load\u001b[1;34m(self)\u001b[0m\n\u001b[0;32m     79\u001b[0m             \u001b[1;32mexcept\u001b[0m \u001b[0mLookupError\u001b[0m \u001b[1;32mas\u001b[0m \u001b[0me\u001b[0m\u001b[1;33m:\u001b[0m\u001b[1;33m\u001b[0m\u001b[0m\n\u001b[0;32m     80\u001b[0m                 \u001b[1;32mtry\u001b[0m\u001b[1;33m:\u001b[0m \u001b[0mroot\u001b[0m \u001b[1;33m=\u001b[0m \u001b[0mnltk\u001b[0m\u001b[1;33m.\u001b[0m\u001b[0mdata\u001b[0m\u001b[1;33m.\u001b[0m\u001b[0mfind\u001b[0m\u001b[1;33m(\u001b[0m\u001b[1;34m'{}/{}'\u001b[0m\u001b[1;33m.\u001b[0m\u001b[0mformat\u001b[0m\u001b[1;33m(\u001b[0m\u001b[0mself\u001b[0m\u001b[1;33m.\u001b[0m\u001b[0msubdir\u001b[0m\u001b[1;33m,\u001b[0m \u001b[0mzip_name\u001b[0m\u001b[1;33m)\u001b[0m\u001b[1;33m)\u001b[0m\u001b[1;33m\u001b[0m\u001b[0m\n\u001b[1;32m---> 81\u001b[1;33m                 \u001b[1;32mexcept\u001b[0m \u001b[0mLookupError\u001b[0m\u001b[1;33m:\u001b[0m \u001b[1;32mraise\u001b[0m \u001b[0me\u001b[0m\u001b[1;33m\u001b[0m\u001b[0m\n\u001b[0m\u001b[0;32m     82\u001b[0m \u001b[1;33m\u001b[0m\u001b[0m\n\u001b[0;32m     83\u001b[0m         \u001b[1;31m# Load the corpus.\u001b[0m\u001b[1;33m\u001b[0m\u001b[1;33m\u001b[0m\u001b[0m\n",
      "\u001b[1;32mi:\\pythonproject\\python\\python36-32\\lib\\site-packages\\nltk\\corpus\\util.py\u001b[0m in \u001b[0;36m__load\u001b[1;34m(self)\u001b[0m\n\u001b[0;32m     76\u001b[0m         \u001b[1;32melse\u001b[0m\u001b[1;33m:\u001b[0m\u001b[1;33m\u001b[0m\u001b[0m\n\u001b[0;32m     77\u001b[0m             \u001b[1;32mtry\u001b[0m\u001b[1;33m:\u001b[0m\u001b[1;33m\u001b[0m\u001b[0m\n\u001b[1;32m---> 78\u001b[1;33m                 \u001b[0mroot\u001b[0m \u001b[1;33m=\u001b[0m \u001b[0mnltk\u001b[0m\u001b[1;33m.\u001b[0m\u001b[0mdata\u001b[0m\u001b[1;33m.\u001b[0m\u001b[0mfind\u001b[0m\u001b[1;33m(\u001b[0m\u001b[1;34m'{}/{}'\u001b[0m\u001b[1;33m.\u001b[0m\u001b[0mformat\u001b[0m\u001b[1;33m(\u001b[0m\u001b[0mself\u001b[0m\u001b[1;33m.\u001b[0m\u001b[0msubdir\u001b[0m\u001b[1;33m,\u001b[0m \u001b[0mself\u001b[0m\u001b[1;33m.\u001b[0m\u001b[0m__name\u001b[0m\u001b[1;33m)\u001b[0m\u001b[1;33m)\u001b[0m\u001b[1;33m\u001b[0m\u001b[0m\n\u001b[0m\u001b[0;32m     79\u001b[0m             \u001b[1;32mexcept\u001b[0m \u001b[0mLookupError\u001b[0m \u001b[1;32mas\u001b[0m \u001b[0me\u001b[0m\u001b[1;33m:\u001b[0m\u001b[1;33m\u001b[0m\u001b[0m\n\u001b[0;32m     80\u001b[0m                 \u001b[1;32mtry\u001b[0m\u001b[1;33m:\u001b[0m \u001b[0mroot\u001b[0m \u001b[1;33m=\u001b[0m \u001b[0mnltk\u001b[0m\u001b[1;33m.\u001b[0m\u001b[0mdata\u001b[0m\u001b[1;33m.\u001b[0m\u001b[0mfind\u001b[0m\u001b[1;33m(\u001b[0m\u001b[1;34m'{}/{}'\u001b[0m\u001b[1;33m.\u001b[0m\u001b[0mformat\u001b[0m\u001b[1;33m(\u001b[0m\u001b[0mself\u001b[0m\u001b[1;33m.\u001b[0m\u001b[0msubdir\u001b[0m\u001b[1;33m,\u001b[0m \u001b[0mzip_name\u001b[0m\u001b[1;33m)\u001b[0m\u001b[1;33m)\u001b[0m\u001b[1;33m\u001b[0m\u001b[0m\n",
      "\u001b[1;32mi:\\pythonproject\\python\\python36-32\\lib\\site-packages\\nltk\\data.py\u001b[0m in \u001b[0;36mfind\u001b[1;34m(resource_name, paths)\u001b[0m\n\u001b[0;32m    671\u001b[0m     \u001b[0msep\u001b[0m \u001b[1;33m=\u001b[0m \u001b[1;34m'*'\u001b[0m \u001b[1;33m*\u001b[0m \u001b[1;36m70\u001b[0m\u001b[1;33m\u001b[0m\u001b[0m\n\u001b[0;32m    672\u001b[0m     \u001b[0mresource_not_found\u001b[0m \u001b[1;33m=\u001b[0m \u001b[1;34m'\\n%s\\n%s\\n%s\\n'\u001b[0m \u001b[1;33m%\u001b[0m \u001b[1;33m(\u001b[0m\u001b[0msep\u001b[0m\u001b[1;33m,\u001b[0m \u001b[0mmsg\u001b[0m\u001b[1;33m,\u001b[0m \u001b[0msep\u001b[0m\u001b[1;33m)\u001b[0m\u001b[1;33m\u001b[0m\u001b[0m\n\u001b[1;32m--> 673\u001b[1;33m     \u001b[1;32mraise\u001b[0m \u001b[0mLookupError\u001b[0m\u001b[1;33m(\u001b[0m\u001b[0mresource_not_found\u001b[0m\u001b[1;33m)\u001b[0m\u001b[1;33m\u001b[0m\u001b[0m\n\u001b[0m\u001b[0;32m    674\u001b[0m \u001b[1;33m\u001b[0m\u001b[0m\n\u001b[0;32m    675\u001b[0m \u001b[1;33m\u001b[0m\u001b[0m\n",
      "\u001b[1;31mLookupError\u001b[0m: \n**********************************************************************\n  Resource \u001b[93mstopwords\u001b[0m not found.\n  Please use the NLTK Downloader to obtain the resource:\n\n  \u001b[31m>>> import nltk\n  >>> nltk.download('stopwords')\n  \u001b[0m\n  Searched in:\n    - 'C:\\\\Users\\\\kate/nltk_data'\n    - 'C:\\\\nltk_data'\n    - 'D:\\\\nltk_data'\n    - 'E:\\\\nltk_data'\n    - 'i:\\\\pythonproject\\\\python\\\\python36-32\\\\nltk_data'\n    - 'i:\\\\pythonproject\\\\python\\\\python36-32\\\\lib\\\\nltk_data'\n    - 'C:\\\\Users\\\\kate\\\\AppData\\\\Roaming\\\\nltk_data'\n**********************************************************************\n"
     ]
    }
   ],
   "source": [
    "from nltk.corpus import stopwords\n",
    "stop =stopwords.words('english')"
   ]
  },
  {
   "cell_type": "code",
   "execution_count": 21,
   "metadata": {},
   "outputs": [],
   "source": [
    "import re\n",
    "def hasNumbers(inputString):\n",
    "    return bool(re.search(r'\\d',inputString))"
   ]
  },
  {
   "cell_type": "markdown",
   "metadata": {},
   "source": [
    "# lemma"
   ]
  },
  {
   "cell_type": "code",
   "execution_count": 22,
   "metadata": {},
   "outputs": [],
   "source": [
    "from nltk.stem import WordNetLemmatizer\n",
    "wordnet_lemmatizer =WordNetLemmatizer()"
   ]
  },
  {
   "cell_type": "code",
   "execution_count": 23,
   "metadata": {},
   "outputs": [],
   "source": [
    "def check(word):\n",
    "    if word in stopwords:\n",
    "        return False\n",
    "    elif hasNumber(word):\n",
    "        return False\n",
    "    else:\n",
    "        return True"
   ]
  },
  {
   "cell_type": "markdown",
   "metadata": {},
   "source": [
    "# 把整个流程放入DF中处理"
   ]
  },
  {
   "cell_type": "code",
   "execution_count": 24,
   "metadata": {
    "collapsed": true
   },
   "outputs": [
    {
     "ename": "TypeError",
     "evalue": "argument of type 'LazyCorpusLoader' is not iterable",
     "output_type": "error",
     "traceback": [
      "\u001b[1;31m---------------------------------------------------------------------------\u001b[0m",
      "\u001b[1;31mTypeError\u001b[0m                                 Traceback (most recent call last)",
      "\u001b[1;32m<ipython-input-24-a90316ef1390>\u001b[0m in \u001b[0;36m<module>\u001b[1;34m()\u001b[0m\n\u001b[1;32m----> 1\u001b[1;33m \u001b[0mX_train\u001b[0m \u001b[1;33m=\u001b[0m\u001b[0mX_train\u001b[0m\u001b[1;33m.\u001b[0m\u001b[0mapply\u001b[0m\u001b[1;33m(\u001b[0m\u001b[1;32mlambda\u001b[0m \u001b[0mx\u001b[0m\u001b[1;33m:\u001b[0m \u001b[1;33m[\u001b[0m\u001b[0mwordnet_lemmatizer\u001b[0m\u001b[1;33m.\u001b[0m\u001b[0mlemmatize\u001b[0m\u001b[1;33m(\u001b[0m\u001b[0mitem\u001b[0m\u001b[1;33m)\u001b[0m \u001b[1;32mfor\u001b[0m \u001b[0mitem\u001b[0m \u001b[1;32min\u001b[0m \u001b[0mx\u001b[0m \u001b[1;32mif\u001b[0m \u001b[0mcheck\u001b[0m\u001b[1;33m(\u001b[0m\u001b[0mitem\u001b[0m\u001b[1;33m)\u001b[0m\u001b[1;33m]\u001b[0m \u001b[1;33m)\u001b[0m\u001b[1;33m\u001b[0m\u001b[0m\n\u001b[0m\u001b[0;32m      2\u001b[0m \u001b[0mX_test\u001b[0m \u001b[1;33m=\u001b[0m\u001b[0mX_test\u001b[0m\u001b[1;33m.\u001b[0m\u001b[0mapply\u001b[0m\u001b[1;33m(\u001b[0m\u001b[1;32mlambda\u001b[0m \u001b[0mx\u001b[0m\u001b[1;33m:\u001b[0m \u001b[1;33m[\u001b[0m\u001b[0mwordnet_lemmatizer\u001b[0m\u001b[1;33m.\u001b[0m\u001b[0mlemmatize\u001b[0m\u001b[1;33m(\u001b[0m\u001b[0mitem\u001b[0m\u001b[1;33m)\u001b[0m \u001b[1;32mfor\u001b[0m \u001b[0mitem\u001b[0m \u001b[1;32min\u001b[0m \u001b[0mx\u001b[0m \u001b[1;32mif\u001b[0m \u001b[0mcheck\u001b[0m\u001b[1;33m(\u001b[0m\u001b[0mitem\u001b[0m\u001b[1;33m)\u001b[0m\u001b[1;33m]\u001b[0m \u001b[1;33m)\u001b[0m\u001b[1;33m\u001b[0m\u001b[0m\n\u001b[0;32m      3\u001b[0m \u001b[0mprint\u001b[0m\u001b[1;33m(\u001b[0m\u001b[0mX_test\u001b[0m\u001b[1;33m[\u001b[0m\u001b[1;36m1611\u001b[0m\u001b[1;33m]\u001b[0m\u001b[1;33m)\u001b[0m\u001b[1;33m\u001b[0m\u001b[0m\n",
      "\u001b[1;32mi:\\pythonproject\\python\\python36-32\\lib\\site-packages\\pandas\\core\\series.py\u001b[0m in \u001b[0;36mapply\u001b[1;34m(self, func, convert_dtype, args, **kwds)\u001b[0m\n\u001b[0;32m   2353\u001b[0m             \u001b[1;32melse\u001b[0m\u001b[1;33m:\u001b[0m\u001b[1;33m\u001b[0m\u001b[0m\n\u001b[0;32m   2354\u001b[0m                 \u001b[0mvalues\u001b[0m \u001b[1;33m=\u001b[0m \u001b[0mself\u001b[0m\u001b[1;33m.\u001b[0m\u001b[0masobject\u001b[0m\u001b[1;33m\u001b[0m\u001b[0m\n\u001b[1;32m-> 2355\u001b[1;33m                 \u001b[0mmapped\u001b[0m \u001b[1;33m=\u001b[0m \u001b[0mlib\u001b[0m\u001b[1;33m.\u001b[0m\u001b[0mmap_infer\u001b[0m\u001b[1;33m(\u001b[0m\u001b[0mvalues\u001b[0m\u001b[1;33m,\u001b[0m \u001b[0mf\u001b[0m\u001b[1;33m,\u001b[0m \u001b[0mconvert\u001b[0m\u001b[1;33m=\u001b[0m\u001b[0mconvert_dtype\u001b[0m\u001b[1;33m)\u001b[0m\u001b[1;33m\u001b[0m\u001b[0m\n\u001b[0m\u001b[0;32m   2356\u001b[0m \u001b[1;33m\u001b[0m\u001b[0m\n\u001b[0;32m   2357\u001b[0m         \u001b[1;32mif\u001b[0m \u001b[0mlen\u001b[0m\u001b[1;33m(\u001b[0m\u001b[0mmapped\u001b[0m\u001b[1;33m)\u001b[0m \u001b[1;32mand\u001b[0m \u001b[0misinstance\u001b[0m\u001b[1;33m(\u001b[0m\u001b[0mmapped\u001b[0m\u001b[1;33m[\u001b[0m\u001b[1;36m0\u001b[0m\u001b[1;33m]\u001b[0m\u001b[1;33m,\u001b[0m \u001b[0mSeries\u001b[0m\u001b[1;33m)\u001b[0m\u001b[1;33m:\u001b[0m\u001b[1;33m\u001b[0m\u001b[0m\n",
      "\u001b[1;32mpandas\\_libs\\src\\inference.pyx\u001b[0m in \u001b[0;36mpandas._libs.lib.map_infer (pandas\\_libs\\lib.c:66645)\u001b[1;34m()\u001b[0m\n",
      "\u001b[1;32m<ipython-input-24-a90316ef1390>\u001b[0m in \u001b[0;36m<lambda>\u001b[1;34m(x)\u001b[0m\n\u001b[1;32m----> 1\u001b[1;33m \u001b[0mX_train\u001b[0m \u001b[1;33m=\u001b[0m\u001b[0mX_train\u001b[0m\u001b[1;33m.\u001b[0m\u001b[0mapply\u001b[0m\u001b[1;33m(\u001b[0m\u001b[1;32mlambda\u001b[0m \u001b[0mx\u001b[0m\u001b[1;33m:\u001b[0m \u001b[1;33m[\u001b[0m\u001b[0mwordnet_lemmatizer\u001b[0m\u001b[1;33m.\u001b[0m\u001b[0mlemmatize\u001b[0m\u001b[1;33m(\u001b[0m\u001b[0mitem\u001b[0m\u001b[1;33m)\u001b[0m \u001b[1;32mfor\u001b[0m \u001b[0mitem\u001b[0m \u001b[1;32min\u001b[0m \u001b[0mx\u001b[0m \u001b[1;32mif\u001b[0m \u001b[0mcheck\u001b[0m\u001b[1;33m(\u001b[0m\u001b[0mitem\u001b[0m\u001b[1;33m)\u001b[0m\u001b[1;33m]\u001b[0m \u001b[1;33m)\u001b[0m\u001b[1;33m\u001b[0m\u001b[0m\n\u001b[0m\u001b[0;32m      2\u001b[0m \u001b[0mX_test\u001b[0m \u001b[1;33m=\u001b[0m\u001b[0mX_test\u001b[0m\u001b[1;33m.\u001b[0m\u001b[0mapply\u001b[0m\u001b[1;33m(\u001b[0m\u001b[1;32mlambda\u001b[0m \u001b[0mx\u001b[0m\u001b[1;33m:\u001b[0m \u001b[1;33m[\u001b[0m\u001b[0mwordnet_lemmatizer\u001b[0m\u001b[1;33m.\u001b[0m\u001b[0mlemmatize\u001b[0m\u001b[1;33m(\u001b[0m\u001b[0mitem\u001b[0m\u001b[1;33m)\u001b[0m \u001b[1;32mfor\u001b[0m \u001b[0mitem\u001b[0m \u001b[1;32min\u001b[0m \u001b[0mx\u001b[0m \u001b[1;32mif\u001b[0m \u001b[0mcheck\u001b[0m\u001b[1;33m(\u001b[0m\u001b[0mitem\u001b[0m\u001b[1;33m)\u001b[0m\u001b[1;33m]\u001b[0m \u001b[1;33m)\u001b[0m\u001b[1;33m\u001b[0m\u001b[0m\n\u001b[0;32m      3\u001b[0m \u001b[0mprint\u001b[0m\u001b[1;33m(\u001b[0m\u001b[0mX_test\u001b[0m\u001b[1;33m[\u001b[0m\u001b[1;36m1611\u001b[0m\u001b[1;33m]\u001b[0m\u001b[1;33m)\u001b[0m\u001b[1;33m\u001b[0m\u001b[0m\n",
      "\u001b[1;32m<ipython-input-24-a90316ef1390>\u001b[0m in \u001b[0;36m<listcomp>\u001b[1;34m(.0)\u001b[0m\n\u001b[1;32m----> 1\u001b[1;33m \u001b[0mX_train\u001b[0m \u001b[1;33m=\u001b[0m\u001b[0mX_train\u001b[0m\u001b[1;33m.\u001b[0m\u001b[0mapply\u001b[0m\u001b[1;33m(\u001b[0m\u001b[1;32mlambda\u001b[0m \u001b[0mx\u001b[0m\u001b[1;33m:\u001b[0m \u001b[1;33m[\u001b[0m\u001b[0mwordnet_lemmatizer\u001b[0m\u001b[1;33m.\u001b[0m\u001b[0mlemmatize\u001b[0m\u001b[1;33m(\u001b[0m\u001b[0mitem\u001b[0m\u001b[1;33m)\u001b[0m \u001b[1;32mfor\u001b[0m \u001b[0mitem\u001b[0m \u001b[1;32min\u001b[0m \u001b[0mx\u001b[0m \u001b[1;32mif\u001b[0m \u001b[0mcheck\u001b[0m\u001b[1;33m(\u001b[0m\u001b[0mitem\u001b[0m\u001b[1;33m)\u001b[0m\u001b[1;33m]\u001b[0m \u001b[1;33m)\u001b[0m\u001b[1;33m\u001b[0m\u001b[0m\n\u001b[0m\u001b[0;32m      2\u001b[0m \u001b[0mX_test\u001b[0m \u001b[1;33m=\u001b[0m\u001b[0mX_test\u001b[0m\u001b[1;33m.\u001b[0m\u001b[0mapply\u001b[0m\u001b[1;33m(\u001b[0m\u001b[1;32mlambda\u001b[0m \u001b[0mx\u001b[0m\u001b[1;33m:\u001b[0m \u001b[1;33m[\u001b[0m\u001b[0mwordnet_lemmatizer\u001b[0m\u001b[1;33m.\u001b[0m\u001b[0mlemmatize\u001b[0m\u001b[1;33m(\u001b[0m\u001b[0mitem\u001b[0m\u001b[1;33m)\u001b[0m \u001b[1;32mfor\u001b[0m \u001b[0mitem\u001b[0m \u001b[1;32min\u001b[0m \u001b[0mx\u001b[0m \u001b[1;32mif\u001b[0m \u001b[0mcheck\u001b[0m\u001b[1;33m(\u001b[0m\u001b[0mitem\u001b[0m\u001b[1;33m)\u001b[0m\u001b[1;33m]\u001b[0m \u001b[1;33m)\u001b[0m\u001b[1;33m\u001b[0m\u001b[0m\n\u001b[0;32m      3\u001b[0m \u001b[0mprint\u001b[0m\u001b[1;33m(\u001b[0m\u001b[0mX_test\u001b[0m\u001b[1;33m[\u001b[0m\u001b[1;36m1611\u001b[0m\u001b[1;33m]\u001b[0m\u001b[1;33m)\u001b[0m\u001b[1;33m\u001b[0m\u001b[0m\n",
      "\u001b[1;32m<ipython-input-23-08ad82631196>\u001b[0m in \u001b[0;36mcheck\u001b[1;34m(word)\u001b[0m\n\u001b[0;32m      1\u001b[0m \u001b[1;32mdef\u001b[0m \u001b[0mcheck\u001b[0m\u001b[1;33m(\u001b[0m\u001b[0mword\u001b[0m\u001b[1;33m)\u001b[0m\u001b[1;33m:\u001b[0m\u001b[1;33m\u001b[0m\u001b[0m\n\u001b[1;32m----> 2\u001b[1;33m     \u001b[1;32mif\u001b[0m \u001b[0mword\u001b[0m \u001b[1;32min\u001b[0m \u001b[0mstopwords\u001b[0m\u001b[1;33m:\u001b[0m\u001b[1;33m\u001b[0m\u001b[0m\n\u001b[0m\u001b[0;32m      3\u001b[0m         \u001b[1;32mreturn\u001b[0m \u001b[1;32mFalse\u001b[0m\u001b[1;33m\u001b[0m\u001b[0m\n\u001b[0;32m      4\u001b[0m     \u001b[1;32melif\u001b[0m \u001b[0mhasNumber\u001b[0m\u001b[1;33m(\u001b[0m\u001b[0mword\u001b[0m\u001b[1;33m)\u001b[0m\u001b[1;33m:\u001b[0m\u001b[1;33m\u001b[0m\u001b[0m\n\u001b[0;32m      5\u001b[0m         \u001b[1;32mreturn\u001b[0m \u001b[1;32mFalse\u001b[0m\u001b[1;33m\u001b[0m\u001b[0m\n",
      "\u001b[1;31mTypeError\u001b[0m: argument of type 'LazyCorpusLoader' is not iterable"
     ]
    }
   ],
   "source": [
    "X_train =X_train.apply(lambda x: [wordnet_lemmatizer.lemmatize(item) for item in x if check(item)] )\n",
    "X_test =X_test.apply(lambda x: [wordnet_lemmatizer.lemmatize(item) for item in x if check(item)] )\n",
    "print(X_test[1611])"
   ]
  },
  {
   "cell_type": "code",
   "execution_count": 29,
   "metadata": {},
   "outputs": [
    {
     "name": "stdout",
     "output_type": "stream",
     "text": [
      "[ most cases of cancer are the result of sheer bad luck rather than unhealthy lifestyles, diet or even inherited genes, new research suggests. random mutations that occur in dna when cells divide are responsible for two thirds of adult cancers across a wide range of tissues. iran dismissed united states efforts to fight islamic state as a ploy to advance u.s. policies in the region: the reality is that the united states is not acting to eliminate daesh. they are not even interested in weakening daesh, they are only interested in managing it poll: one in 8 germans would join anti-muslim marches uk royal familys prince andrew named in us lawsuit over underage sex allegations some 40 asylum-seekers refused to leave the bus when they arrived at their destination in rural northern sweden, demanding that they be taken back to malm or some big city. pakistani boat blows self up after india navy chase. all four people on board the vessel from near the pakistani port city of karachi are believed to have been killed in the dramatic episode in the arabian sea on new years eve, according to indias defence ministry. sweden hit by third mosque arson attack in a week 940 cars set alight during french new year salaries for top ceos rose twice as fast as average canadian since recession: study norway violated equal-pay law, judge says: judge finds consulate employee was unjustly paid $30,000 less than her male counterpart imam wants radical recruiters of muslim youth in canada identified and dealt with saudi arabia beheaded 83 people in 2014, the most in years a living hell for slaves on remote south korean islands - slavery thrives on this chain of rural islands off south koreas rugged southwest coast, nurtured by a long history of exploitation and the demands of trying to squeeze a living from the sea. worlds 400 richest get richer, adding $92bn in 2014 rental car stereos infringe copyright, music rights group says ukrainian minister threatens tv channel with closure for airing russian entertainers palestinian president mahmoud abbas has entered into his most serious confrontation yet with israel by signing onto the international criminal court. his decision on wednesday gives the court jurisdiction over crimes committed in palestinian lands. israeli security center publishes names of 50 killed terrorists concealed by hamas the year 2014 was the deadliest year yet in syrias four-year conflict, with over 76,000 killed a secret underground complex built by the nazis that may have been used for the development of wmds, including a nuclear bomb, has been uncovered in austria. restrictions on web freedom a major global issue in 2015 austrian journalist erich mchel delivered a presentation in hamburg at the annual meeting of the chaos computer club on monday december 29, detailing the various locations where the us nsa has been actively collecting and processing electronic intelligence in vienna. thousands of ukraine nationalists march in kiev chinas new years resolution: no more harvesting executed prisoners organs authorities pull plug on russias last politically independent tv station]\n"
     ]
    }
   ],
   "source": [
    "X_train=X_train.apply(lambda x: ' '.join(x))\n",
    "X_test=X_test.apply(lambda x: ' '.join(x))\n",
    "print(X_test[1611])"
   ]
  },
  {
   "cell_type": "markdown",
   "metadata": {},
   "source": [
    "# 效果不怎么样"
   ]
  },
  {
   "cell_type": "code",
   "execution_count": null,
   "metadata": {},
   "outputs": [],
   "source": []
  }
 ],
 "metadata": {
  "kernelspec": {
   "display_name": "Python 3",
   "language": "python",
   "name": "python3"
  },
  "language_info": {
   "codemirror_mode": {
    "name": "ipython",
    "version": 3
   },
   "file_extension": ".py",
   "mimetype": "text/x-python",
   "name": "python",
   "nbconvert_exporter": "python",
   "pygments_lexer": "ipython3",
   "version": "3.6.1"
  }
 },
 "nbformat": 4,
 "nbformat_minor": 2
}
